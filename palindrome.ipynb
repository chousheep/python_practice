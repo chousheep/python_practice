{
  "nbformat": 4,
  "nbformat_minor": 0,
  "metadata": {
    "colab": {
      "provenance": [],
      "toc_visible": true,
      "authorship_tag": "ABX9TyNi/Z2JC19JILiGRjjnyCSL",
      "include_colab_link": true
    },
    "kernelspec": {
      "name": "python3",
      "display_name": "Python 3"
    },
    "language_info": {
      "name": "python"
    }
  },
  "cells": [
    {
      "cell_type": "markdown",
      "metadata": {
        "id": "view-in-github",
        "colab_type": "text"
      },
      "source": [
        "<a href=\"https://colab.research.google.com/github/chousheep/python_practice/blob/main/palindrome.ipynb\" target=\"_parent\"><img src=\"https://colab.research.google.com/assets/colab-badge.svg\" alt=\"Open In Colab\"/></a>"
      ]
    },
    {
      "cell_type": "markdown",
      "source": [
        "# 題目\n",
        "\n",
        "請寫一個程式，判斷輸入的字串是否為回文 （palindrome)\n",
        "\n",
        "**回文定義：**\n",
        "\n",
        "一個字串正著讀和反著讀都一樣，例如：level, racecar, 上海自來水來自海上\n",
        "\n",
        "**需求：**\n",
        "*   使用者輸入一個字串。\n",
        "*   忽略空格、大小寫與標點符號。\n",
        "\n",
        "**程式輸出：**\n",
        "*   如果是回文，印出 True\n",
        "*   如果不是回文，印出 False\n"
      ],
      "metadata": {
        "id": "Z6_THHT4fiKI"
      }
    },
    {
      "cell_type": "markdown",
      "source": [
        "# 我的答案\n"
      ],
      "metadata": {
        "id": "L2RhHuDcfSoq"
      }
    },
    {
      "cell_type": "code",
      "execution_count": null,
      "metadata": {
        "colab": {
          "base_uri": "https://localhost:8080/"
        },
        "id": "jO3LbZBeaddv",
        "outputId": "550468c3-7449-4bf6-9ff4-6583ea6ca477"
      },
      "outputs": [
        {
          "output_type": "stream",
          "name": "stdout",
          "text": [
            "回文檢查器\n",
            "Input a string: Hihi\n",
            "False\n"
          ]
        }
      ],
      "source": [
        "def is_palindrome(input_string):\n",
        "  if input_string == input_string[::-1]:\n",
        "    return True\n",
        "  else:\n",
        "    return False\n",
        "\n",
        "print(\"回文檢查器\")\n",
        "result = is_palindrome(input(\"Input a string: \"))\n",
        "print(result)"
      ]
    },
    {
      "cell_type": "markdown",
      "source": [
        "# 問題訂正\n",
        "* 可以不使用 if statement\n",
        "* 沒有處理到大小寫、標點符號"
      ],
      "metadata": {
        "id": "0ey7gOnXcgaV"
      }
    },
    {
      "cell_type": "markdown",
      "source": [
        "## 可以不使用 if statement"
      ],
      "metadata": {
        "id": "d8N1NjkIgoj6"
      }
    },
    {
      "cell_type": "code",
      "source": [
        "def is_palindrome(input_string):\n",
        "  return input_string == input_string[::-1]\n",
        "\n",
        "print(\"回文檢查器\")\n",
        "result = is_palindrome(input(\"Input a string: \"))\n",
        "print(result)"
      ],
      "metadata": {
        "colab": {
          "base_uri": "https://localhost:8080/"
        },
        "id": "IspWB6tNcYmi",
        "outputId": "65d587a0-88b5-4d86-f28d-cd1c29759bda"
      },
      "execution_count": null,
      "outputs": [
        {
          "output_type": "stream",
          "name": "stdout",
          "text": [
            "回文檢查器\n",
            "Input a string: hiih\n",
            "True\n"
          ]
        }
      ]
    },
    {
      "cell_type": "markdown",
      "source": [
        "## 加入考慮大小寫、標點符號"
      ],
      "metadata": {
        "id": "fcml6Vk8bmUW"
      }
    },
    {
      "cell_type": "code",
      "source": [
        "import re\n",
        "\n",
        "def is_palindrome(input_string):\n",
        "  # 只保留字母與數字 並轉小寫\n",
        "  cleaned = re.sub(r'[^a-zA-Z0-9\\u4e00-\\u9fff]', '', input_string).lower()\n",
        "  return cleaned == cleaned[::-1]\n",
        "\n",
        "print(\"回文檢查器\")\n",
        "result = is_palindrome(input(\"Input a string: \"))\n",
        "print(result)"
      ],
      "metadata": {
        "colab": {
          "base_uri": "https://localhost:8080/"
        },
        "id": "x9591gpGbqKi",
        "outputId": "9c6c22bb-ae34-43df-8d53-02199d75a95c"
      },
      "execution_count": null,
      "outputs": [
        {
          "output_type": "stream",
          "name": "stdout",
          "text": [
            "回文檢查器\n",
            "Input a string: hiih\n",
            "True\n"
          ]
        }
      ]
    },
    {
      "cell_type": "markdown",
      "source": [
        "# 延伸：雙指標解法\n",
        "在不使用 [::-1] 情況下寫出檢查程式"
      ],
      "metadata": {
        "id": "3LzM8p1YhTIF"
      }
    },
    {
      "cell_type": "code",
      "source": [
        "def is_palindrome(input_string):\n",
        "  # 移除非字母與數字，並轉小寫\n",
        "  cleaned = re.sub(r'[^a-zA-Z0-9\\u4e00-\\u9fff]', '', input_string).lower()\n",
        "\n",
        "  # 設定左右指標\n",
        "  left, right = 0, len(cleaned) - 1\n",
        "  while left < right:\n",
        "    if cleaned[left] != cleaned[right]:\n",
        "        return False\n",
        "    left += 1\n",
        "    right -= 1\n",
        "\n",
        "  return True\n",
        "\n",
        "print(\"回文檢查器\")\n",
        "result = is_palindrome(input(\"Input a string: \"))\n",
        "print(result)"
      ],
      "metadata": {
        "colab": {
          "base_uri": "https://localhost:8080/"
        },
        "id": "VORSIR6IhWvT",
        "outputId": "1e01484a-b1f9-40a1-c1a1-680b6a0040a7"
      },
      "execution_count": null,
      "outputs": [
        {
          "output_type": "stream",
          "name": "stdout",
          "text": [
            "回文檢查器\n",
            "Input a string: hiih\n",
            "True\n"
          ]
        }
      ]
    }
  ]
}